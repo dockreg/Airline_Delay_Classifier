{
 "cells": [
  {
   "cell_type": "code",
   "execution_count": 45,
   "id": "23749941",
   "metadata": {},
   "outputs": [],
   "source": [
    "import pandas as pd\n",
    "import numpy as np\n",
    "import seaborn as sns\n",
    "import matplotlib.pyplot as plt"
   ]
  },
  {
   "cell_type": "code",
   "execution_count": 46,
   "id": "6c59ab01",
   "metadata": {},
   "outputs": [],
   "source": [
    "df = pd.read_csv(\"../Data/2019.csv\")"
   ]
  },
  {
   "cell_type": "code",
   "execution_count": 47,
   "id": "bf806334",
   "metadata": {
    "scrolled": true
   },
   "outputs": [
    {
     "data": {
      "text/html": [
       "<div>\n",
       "<style scoped>\n",
       "    .dataframe tbody tr th:only-of-type {\n",
       "        vertical-align: middle;\n",
       "    }\n",
       "\n",
       "    .dataframe tbody tr th {\n",
       "        vertical-align: top;\n",
       "    }\n",
       "\n",
       "    .dataframe thead th {\n",
       "        text-align: right;\n",
       "    }\n",
       "</style>\n",
       "<table border=\"1\" class=\"dataframe\">\n",
       "  <thead>\n",
       "    <tr style=\"text-align: right;\">\n",
       "      <th></th>\n",
       "      <th>FL_DATE</th>\n",
       "      <th>OP_UNIQUE_CARRIER</th>\n",
       "      <th>OP_CARRIER_FL_NUM</th>\n",
       "      <th>ORIGIN</th>\n",
       "      <th>DEST</th>\n",
       "      <th>DEP_TIME</th>\n",
       "      <th>DEP_DELAY</th>\n",
       "      <th>TAXI_OUT</th>\n",
       "      <th>WHEELS_OFF</th>\n",
       "      <th>WHEELS_ON</th>\n",
       "      <th>...</th>\n",
       "      <th>ARR_TIME</th>\n",
       "      <th>ARR_DELAY</th>\n",
       "      <th>AIR_TIME</th>\n",
       "      <th>DISTANCE</th>\n",
       "      <th>CARRIER_DELAY</th>\n",
       "      <th>WEATHER_DELAY</th>\n",
       "      <th>NAS_DELAY</th>\n",
       "      <th>SECURITY_DELAY</th>\n",
       "      <th>LATE_AIRCRAFT_DELAY</th>\n",
       "      <th>Unnamed: 20</th>\n",
       "    </tr>\n",
       "  </thead>\n",
       "  <tbody>\n",
       "    <tr>\n",
       "      <th>7422032</th>\n",
       "      <td>2019-12-31</td>\n",
       "      <td>B6</td>\n",
       "      <td>846</td>\n",
       "      <td>MCO</td>\n",
       "      <td>SWF</td>\n",
       "      <td>1500.0</td>\n",
       "      <td>64.0</td>\n",
       "      <td>20.0</td>\n",
       "      <td>1520.0</td>\n",
       "      <td>1726.0</td>\n",
       "      <td>...</td>\n",
       "      <td>1731.0</td>\n",
       "      <td>52.0</td>\n",
       "      <td>126.0</td>\n",
       "      <td>989.0</td>\n",
       "      <td>52.0</td>\n",
       "      <td>0.0</td>\n",
       "      <td>0.0</td>\n",
       "      <td>0.0</td>\n",
       "      <td>0.0</td>\n",
       "      <td>NaN</td>\n",
       "    </tr>\n",
       "    <tr>\n",
       "      <th>7422033</th>\n",
       "      <td>2019-12-31</td>\n",
       "      <td>B6</td>\n",
       "      <td>854</td>\n",
       "      <td>DCA</td>\n",
       "      <td>BOS</td>\n",
       "      <td>1414.0</td>\n",
       "      <td>-6.0</td>\n",
       "      <td>15.0</td>\n",
       "      <td>1429.0</td>\n",
       "      <td>1526.0</td>\n",
       "      <td>...</td>\n",
       "      <td>1533.0</td>\n",
       "      <td>-17.0</td>\n",
       "      <td>57.0</td>\n",
       "      <td>399.0</td>\n",
       "      <td>NaN</td>\n",
       "      <td>NaN</td>\n",
       "      <td>NaN</td>\n",
       "      <td>NaN</td>\n",
       "      <td>NaN</td>\n",
       "      <td>NaN</td>\n",
       "    </tr>\n",
       "    <tr>\n",
       "      <th>7422034</th>\n",
       "      <td>2019-12-31</td>\n",
       "      <td>B6</td>\n",
       "      <td>860</td>\n",
       "      <td>PHL</td>\n",
       "      <td>BOS</td>\n",
       "      <td>652.0</td>\n",
       "      <td>-8.0</td>\n",
       "      <td>12.0</td>\n",
       "      <td>704.0</td>\n",
       "      <td>746.0</td>\n",
       "      <td>...</td>\n",
       "      <td>751.0</td>\n",
       "      <td>-34.0</td>\n",
       "      <td>42.0</td>\n",
       "      <td>280.0</td>\n",
       "      <td>NaN</td>\n",
       "      <td>NaN</td>\n",
       "      <td>NaN</td>\n",
       "      <td>NaN</td>\n",
       "      <td>NaN</td>\n",
       "      <td>NaN</td>\n",
       "    </tr>\n",
       "    <tr>\n",
       "      <th>7422035</th>\n",
       "      <td>2019-12-31</td>\n",
       "      <td>B6</td>\n",
       "      <td>861</td>\n",
       "      <td>BOS</td>\n",
       "      <td>SJU</td>\n",
       "      <td>812.0</td>\n",
       "      <td>-1.0</td>\n",
       "      <td>10.0</td>\n",
       "      <td>822.0</td>\n",
       "      <td>1245.0</td>\n",
       "      <td>...</td>\n",
       "      <td>1248.0</td>\n",
       "      <td>-27.0</td>\n",
       "      <td>203.0</td>\n",
       "      <td>1674.0</td>\n",
       "      <td>NaN</td>\n",
       "      <td>NaN</td>\n",
       "      <td>NaN</td>\n",
       "      <td>NaN</td>\n",
       "      <td>NaN</td>\n",
       "      <td>NaN</td>\n",
       "    </tr>\n",
       "    <tr>\n",
       "      <th>7422036</th>\n",
       "      <td>2019-12-31</td>\n",
       "      <td>B6</td>\n",
       "      <td>862</td>\n",
       "      <td>SJU</td>\n",
       "      <td>BOS</td>\n",
       "      <td>431.0</td>\n",
       "      <td>2.0</td>\n",
       "      <td>10.0</td>\n",
       "      <td>441.0</td>\n",
       "      <td>712.0</td>\n",
       "      <td>...</td>\n",
       "      <td>722.0</td>\n",
       "      <td>-16.0</td>\n",
       "      <td>211.0</td>\n",
       "      <td>1674.0</td>\n",
       "      <td>NaN</td>\n",
       "      <td>NaN</td>\n",
       "      <td>NaN</td>\n",
       "      <td>NaN</td>\n",
       "      <td>NaN</td>\n",
       "      <td>NaN</td>\n",
       "    </tr>\n",
       "  </tbody>\n",
       "</table>\n",
       "<p>5 rows × 21 columns</p>\n",
       "</div>"
      ],
      "text/plain": [
       "            FL_DATE OP_UNIQUE_CARRIER  OP_CARRIER_FL_NUM ORIGIN DEST  \\\n",
       "7422032  2019-12-31                B6                846    MCO  SWF   \n",
       "7422033  2019-12-31                B6                854    DCA  BOS   \n",
       "7422034  2019-12-31                B6                860    PHL  BOS   \n",
       "7422035  2019-12-31                B6                861    BOS  SJU   \n",
       "7422036  2019-12-31                B6                862    SJU  BOS   \n",
       "\n",
       "         DEP_TIME  DEP_DELAY  TAXI_OUT  WHEELS_OFF  WHEELS_ON  ...  ARR_TIME  \\\n",
       "7422032    1500.0       64.0      20.0      1520.0     1726.0  ...    1731.0   \n",
       "7422033    1414.0       -6.0      15.0      1429.0     1526.0  ...    1533.0   \n",
       "7422034     652.0       -8.0      12.0       704.0      746.0  ...     751.0   \n",
       "7422035     812.0       -1.0      10.0       822.0     1245.0  ...    1248.0   \n",
       "7422036     431.0        2.0      10.0       441.0      712.0  ...     722.0   \n",
       "\n",
       "         ARR_DELAY  AIR_TIME  DISTANCE  CARRIER_DELAY  WEATHER_DELAY  \\\n",
       "7422032       52.0     126.0     989.0           52.0            0.0   \n",
       "7422033      -17.0      57.0     399.0            NaN            NaN   \n",
       "7422034      -34.0      42.0     280.0            NaN            NaN   \n",
       "7422035      -27.0     203.0    1674.0            NaN            NaN   \n",
       "7422036      -16.0     211.0    1674.0            NaN            NaN   \n",
       "\n",
       "         NAS_DELAY  SECURITY_DELAY  LATE_AIRCRAFT_DELAY  Unnamed: 20  \n",
       "7422032        0.0             0.0                  0.0          NaN  \n",
       "7422033        NaN             NaN                  NaN          NaN  \n",
       "7422034        NaN             NaN                  NaN          NaN  \n",
       "7422035        NaN             NaN                  NaN          NaN  \n",
       "7422036        NaN             NaN                  NaN          NaN  \n",
       "\n",
       "[5 rows x 21 columns]"
      ]
     },
     "execution_count": 47,
     "metadata": {},
     "output_type": "execute_result"
    }
   ],
   "source": [
    "df.tail()"
   ]
  },
  {
   "cell_type": "code",
   "execution_count": 48,
   "id": "1f28cba9",
   "metadata": {},
   "outputs": [
    {
     "data": {
      "text/plain": [
       "(7422037, 21)"
      ]
     },
     "execution_count": 48,
     "metadata": {},
     "output_type": "execute_result"
    }
   ],
   "source": [
    "df.shape"
   ]
  },
  {
   "cell_type": "code",
   "execution_count": 49,
   "id": "158ed9f0",
   "metadata": {},
   "outputs": [
    {
     "name": "stdout",
     "output_type": "stream",
     "text": [
      "<class 'pandas.core.frame.DataFrame'>\n",
      "RangeIndex: 7422037 entries, 0 to 7422036\n",
      "Data columns (total 21 columns):\n",
      " #   Column               Dtype  \n",
      "---  ------               -----  \n",
      " 0   FL_DATE              object \n",
      " 1   OP_UNIQUE_CARRIER    object \n",
      " 2   OP_CARRIER_FL_NUM    int64  \n",
      " 3   ORIGIN               object \n",
      " 4   DEST                 object \n",
      " 5   DEP_TIME             float64\n",
      " 6   DEP_DELAY            float64\n",
      " 7   TAXI_OUT             float64\n",
      " 8   WHEELS_OFF           float64\n",
      " 9   WHEELS_ON            float64\n",
      " 10  TAXI_IN              float64\n",
      " 11  ARR_TIME             float64\n",
      " 12  ARR_DELAY            float64\n",
      " 13  AIR_TIME             float64\n",
      " 14  DISTANCE             float64\n",
      " 15  CARRIER_DELAY        float64\n",
      " 16  WEATHER_DELAY        float64\n",
      " 17  NAS_DELAY            float64\n",
      " 18  SECURITY_DELAY       float64\n",
      " 19  LATE_AIRCRAFT_DELAY  float64\n",
      " 20  Unnamed: 20          float64\n",
      "dtypes: float64(16), int64(1), object(4)\n",
      "memory usage: 1.2+ GB\n"
     ]
    }
   ],
   "source": [
    "df.info()"
   ]
  },
  {
   "cell_type": "code",
   "execution_count": 50,
   "id": "7134eb51",
   "metadata": {},
   "outputs": [
    {
     "data": {
      "text/html": [
       "<div>\n",
       "<style scoped>\n",
       "    .dataframe tbody tr th:only-of-type {\n",
       "        vertical-align: middle;\n",
       "    }\n",
       "\n",
       "    .dataframe tbody tr th {\n",
       "        vertical-align: top;\n",
       "    }\n",
       "\n",
       "    .dataframe thead th {\n",
       "        text-align: right;\n",
       "    }\n",
       "</style>\n",
       "<table border=\"1\" class=\"dataframe\">\n",
       "  <thead>\n",
       "    <tr style=\"text-align: right;\">\n",
       "      <th></th>\n",
       "      <th>OP_CARRIER_FL_NUM</th>\n",
       "      <th>DEP_TIME</th>\n",
       "      <th>DEP_DELAY</th>\n",
       "      <th>TAXI_OUT</th>\n",
       "      <th>WHEELS_OFF</th>\n",
       "      <th>WHEELS_ON</th>\n",
       "      <th>TAXI_IN</th>\n",
       "      <th>ARR_TIME</th>\n",
       "      <th>ARR_DELAY</th>\n",
       "      <th>AIR_TIME</th>\n",
       "      <th>DISTANCE</th>\n",
       "      <th>CARRIER_DELAY</th>\n",
       "      <th>WEATHER_DELAY</th>\n",
       "      <th>NAS_DELAY</th>\n",
       "      <th>SECURITY_DELAY</th>\n",
       "      <th>LATE_AIRCRAFT_DELAY</th>\n",
       "      <th>Unnamed: 20</th>\n",
       "    </tr>\n",
       "  </thead>\n",
       "  <tbody>\n",
       "    <tr>\n",
       "      <th>count</th>\n",
       "      <td>7.422037e+06</td>\n",
       "      <td>7.291951e+06</td>\n",
       "      <td>7.291927e+06</td>\n",
       "      <td>7.288060e+06</td>\n",
       "      <td>7.288060e+06</td>\n",
       "      <td>7.284390e+06</td>\n",
       "      <td>7.284390e+06</td>\n",
       "      <td>7.284391e+06</td>\n",
       "      <td>7.268232e+06</td>\n",
       "      <td>7.268232e+06</td>\n",
       "      <td>7.422037e+06</td>\n",
       "      <td>1.389253e+06</td>\n",
       "      <td>1.389253e+06</td>\n",
       "      <td>1.389253e+06</td>\n",
       "      <td>1.389253e+06</td>\n",
       "      <td>1.389253e+06</td>\n",
       "      <td>0.0</td>\n",
       "    </tr>\n",
       "    <tr>\n",
       "      <th>mean</th>\n",
       "      <td>2.557196e+03</td>\n",
       "      <td>1.334606e+03</td>\n",
       "      <td>1.092327e+01</td>\n",
       "      <td>1.738935e+01</td>\n",
       "      <td>1.358264e+03</td>\n",
       "      <td>1.459032e+03</td>\n",
       "      <td>7.740776e+00</td>\n",
       "      <td>1.462955e+03</td>\n",
       "      <td>5.414849e+00</td>\n",
       "      <td>1.115734e+02</td>\n",
       "      <td>8.005437e+02</td>\n",
       "      <td>2.112859e+01</td>\n",
       "      <td>3.802404e+00</td>\n",
       "      <td>1.658795e+01</td>\n",
       "      <td>9.608329e-02</td>\n",
       "      <td>2.740748e+01</td>\n",
       "      <td>NaN</td>\n",
       "    </tr>\n",
       "    <tr>\n",
       "      <th>std</th>\n",
       "      <td>1.799413e+03</td>\n",
       "      <td>5.071998e+02</td>\n",
       "      <td>4.895964e+01</td>\n",
       "      <td>1.000398e+01</td>\n",
       "      <td>5.088109e+02</td>\n",
       "      <td>5.378414e+02</td>\n",
       "      <td>6.194340e+00</td>\n",
       "      <td>5.424542e+02</td>\n",
       "      <td>5.106666e+01</td>\n",
       "      <td>7.056123e+01</td>\n",
       "      <td>5.925118e+02</td>\n",
       "      <td>6.610465e+01</td>\n",
       "      <td>3.236297e+01</td>\n",
       "      <td>3.966440e+01</td>\n",
       "      <td>3.358346e+00</td>\n",
       "      <td>5.345620e+01</td>\n",
       "      <td>NaN</td>\n",
       "    </tr>\n",
       "    <tr>\n",
       "      <th>min</th>\n",
       "      <td>1.000000e+00</td>\n",
       "      <td>1.000000e+00</td>\n",
       "      <td>-8.200000e+01</td>\n",
       "      <td>1.000000e+00</td>\n",
       "      <td>1.000000e+00</td>\n",
       "      <td>1.000000e+00</td>\n",
       "      <td>1.000000e+00</td>\n",
       "      <td>1.000000e+00</td>\n",
       "      <td>-9.900000e+01</td>\n",
       "      <td>4.000000e+00</td>\n",
       "      <td>3.100000e+01</td>\n",
       "      <td>0.000000e+00</td>\n",
       "      <td>0.000000e+00</td>\n",
       "      <td>0.000000e+00</td>\n",
       "      <td>0.000000e+00</td>\n",
       "      <td>0.000000e+00</td>\n",
       "      <td>NaN</td>\n",
       "    </tr>\n",
       "    <tr>\n",
       "      <th>25%</th>\n",
       "      <td>1.025000e+03</td>\n",
       "      <td>9.140000e+02</td>\n",
       "      <td>-5.000000e+00</td>\n",
       "      <td>1.100000e+01</td>\n",
       "      <td>9.300000e+02</td>\n",
       "      <td>1.042000e+03</td>\n",
       "      <td>4.000000e+00</td>\n",
       "      <td>1.046000e+03</td>\n",
       "      <td>-1.500000e+01</td>\n",
       "      <td>6.000000e+01</td>\n",
       "      <td>3.690000e+02</td>\n",
       "      <td>0.000000e+00</td>\n",
       "      <td>0.000000e+00</td>\n",
       "      <td>0.000000e+00</td>\n",
       "      <td>0.000000e+00</td>\n",
       "      <td>0.000000e+00</td>\n",
       "      <td>NaN</td>\n",
       "    </tr>\n",
       "    <tr>\n",
       "      <th>50%</th>\n",
       "      <td>2.158000e+03</td>\n",
       "      <td>1.327000e+03</td>\n",
       "      <td>-2.000000e+00</td>\n",
       "      <td>1.500000e+01</td>\n",
       "      <td>1.340000e+03</td>\n",
       "      <td>1.500000e+03</td>\n",
       "      <td>6.000000e+00</td>\n",
       "      <td>1.504000e+03</td>\n",
       "      <td>-6.000000e+00</td>\n",
       "      <td>9.300000e+01</td>\n",
       "      <td>6.400000e+02</td>\n",
       "      <td>0.000000e+00</td>\n",
       "      <td>0.000000e+00</td>\n",
       "      <td>2.000000e+00</td>\n",
       "      <td>0.000000e+00</td>\n",
       "      <td>3.000000e+00</td>\n",
       "      <td>NaN</td>\n",
       "    </tr>\n",
       "    <tr>\n",
       "      <th>75%</th>\n",
       "      <td>3.917000e+03</td>\n",
       "      <td>1.746000e+03</td>\n",
       "      <td>7.000000e+00</td>\n",
       "      <td>2.000000e+01</td>\n",
       "      <td>1.801000e+03</td>\n",
       "      <td>1.912000e+03</td>\n",
       "      <td>9.000000e+00</td>\n",
       "      <td>1.917000e+03</td>\n",
       "      <td>7.000000e+00</td>\n",
       "      <td>1.410000e+02</td>\n",
       "      <td>1.034000e+03</td>\n",
       "      <td>1.800000e+01</td>\n",
       "      <td>0.000000e+00</td>\n",
       "      <td>2.000000e+01</td>\n",
       "      <td>0.000000e+00</td>\n",
       "      <td>3.300000e+01</td>\n",
       "      <td>NaN</td>\n",
       "    </tr>\n",
       "    <tr>\n",
       "      <th>max</th>\n",
       "      <td>7.933000e+03</td>\n",
       "      <td>2.400000e+03</td>\n",
       "      <td>2.710000e+03</td>\n",
       "      <td>2.270000e+02</td>\n",
       "      <td>2.400000e+03</td>\n",
       "      <td>2.400000e+03</td>\n",
       "      <td>3.160000e+02</td>\n",
       "      <td>2.400000e+03</td>\n",
       "      <td>2.695000e+03</td>\n",
       "      <td>1.557000e+03</td>\n",
       "      <td>5.095000e+03</td>\n",
       "      <td>2.695000e+03</td>\n",
       "      <td>1.847000e+03</td>\n",
       "      <td>1.741000e+03</td>\n",
       "      <td>1.078000e+03</td>\n",
       "      <td>2.206000e+03</td>\n",
       "      <td>NaN</td>\n",
       "    </tr>\n",
       "  </tbody>\n",
       "</table>\n",
       "</div>"
      ],
      "text/plain": [
       "       OP_CARRIER_FL_NUM      DEP_TIME     DEP_DELAY      TAXI_OUT  \\\n",
       "count       7.422037e+06  7.291951e+06  7.291927e+06  7.288060e+06   \n",
       "mean        2.557196e+03  1.334606e+03  1.092327e+01  1.738935e+01   \n",
       "std         1.799413e+03  5.071998e+02  4.895964e+01  1.000398e+01   \n",
       "min         1.000000e+00  1.000000e+00 -8.200000e+01  1.000000e+00   \n",
       "25%         1.025000e+03  9.140000e+02 -5.000000e+00  1.100000e+01   \n",
       "50%         2.158000e+03  1.327000e+03 -2.000000e+00  1.500000e+01   \n",
       "75%         3.917000e+03  1.746000e+03  7.000000e+00  2.000000e+01   \n",
       "max         7.933000e+03  2.400000e+03  2.710000e+03  2.270000e+02   \n",
       "\n",
       "         WHEELS_OFF     WHEELS_ON       TAXI_IN      ARR_TIME     ARR_DELAY  \\\n",
       "count  7.288060e+06  7.284390e+06  7.284390e+06  7.284391e+06  7.268232e+06   \n",
       "mean   1.358264e+03  1.459032e+03  7.740776e+00  1.462955e+03  5.414849e+00   \n",
       "std    5.088109e+02  5.378414e+02  6.194340e+00  5.424542e+02  5.106666e+01   \n",
       "min    1.000000e+00  1.000000e+00  1.000000e+00  1.000000e+00 -9.900000e+01   \n",
       "25%    9.300000e+02  1.042000e+03  4.000000e+00  1.046000e+03 -1.500000e+01   \n",
       "50%    1.340000e+03  1.500000e+03  6.000000e+00  1.504000e+03 -6.000000e+00   \n",
       "75%    1.801000e+03  1.912000e+03  9.000000e+00  1.917000e+03  7.000000e+00   \n",
       "max    2.400000e+03  2.400000e+03  3.160000e+02  2.400000e+03  2.695000e+03   \n",
       "\n",
       "           AIR_TIME      DISTANCE  CARRIER_DELAY  WEATHER_DELAY     NAS_DELAY  \\\n",
       "count  7.268232e+06  7.422037e+06   1.389253e+06   1.389253e+06  1.389253e+06   \n",
       "mean   1.115734e+02  8.005437e+02   2.112859e+01   3.802404e+00  1.658795e+01   \n",
       "std    7.056123e+01  5.925118e+02   6.610465e+01   3.236297e+01  3.966440e+01   \n",
       "min    4.000000e+00  3.100000e+01   0.000000e+00   0.000000e+00  0.000000e+00   \n",
       "25%    6.000000e+01  3.690000e+02   0.000000e+00   0.000000e+00  0.000000e+00   \n",
       "50%    9.300000e+01  6.400000e+02   0.000000e+00   0.000000e+00  2.000000e+00   \n",
       "75%    1.410000e+02  1.034000e+03   1.800000e+01   0.000000e+00  2.000000e+01   \n",
       "max    1.557000e+03  5.095000e+03   2.695000e+03   1.847000e+03  1.741000e+03   \n",
       "\n",
       "       SECURITY_DELAY  LATE_AIRCRAFT_DELAY  Unnamed: 20  \n",
       "count    1.389253e+06         1.389253e+06          0.0  \n",
       "mean     9.608329e-02         2.740748e+01          NaN  \n",
       "std      3.358346e+00         5.345620e+01          NaN  \n",
       "min      0.000000e+00         0.000000e+00          NaN  \n",
       "25%      0.000000e+00         0.000000e+00          NaN  \n",
       "50%      0.000000e+00         3.000000e+00          NaN  \n",
       "75%      0.000000e+00         3.300000e+01          NaN  \n",
       "max      1.078000e+03         2.206000e+03          NaN  "
      ]
     },
     "execution_count": 50,
     "metadata": {},
     "output_type": "execute_result"
    }
   ],
   "source": [
    "df.describe()"
   ]
  },
  {
   "cell_type": "code",
   "execution_count": 51,
   "id": "088b0135",
   "metadata": {},
   "outputs": [
    {
     "data": {
      "text/plain": [
       "2710.0"
      ]
     },
     "execution_count": 51,
     "metadata": {},
     "output_type": "execute_result"
    }
   ],
   "source": [
    "df[\"DEP_DELAY\"].max()"
   ]
  },
  {
   "cell_type": "markdown",
   "id": "7e600926",
   "metadata": {},
   "source": [
    "Note that the departure delay max value is 2,710 mins. The minimum delay is -82 (leaving 82 mins early). We will now inspect the distribution as it seems that the data is right skew with some outliers that were extremely delayed."
   ]
  },
  {
   "cell_type": "code",
   "execution_count": 52,
   "id": "5cee7faa",
   "metadata": {
    "scrolled": false
   },
   "outputs": [
    {
     "data": {
      "image/png": "[encoded data removed]",
      "text/plain": [
       "<Figure size 432x288 with 1 Axes>"
      ]
     },
     "metadata": {
      "needs_background": "light"
     },
     "output_type": "display_data"
    }
   ],
   "source": [
    "ax = sns.boxplot(x=df[\"DEP_DELAY\"])"
   ]
  },
  {
   "cell_type": "code",
   "execution_count": 53,
   "id": "a3341686",
   "metadata": {},
   "outputs": [
    {
     "data": {
      "text/plain": [
       "(0.0, 10000.0)"
      ]
     },
     "execution_count": 53,
     "metadata": {},
     "output_type": "execute_result"
    },
    {
     "data": {
      "image/png": "[encoded data removed]",
      "text/plain": [
       "<Figure size 432x288 with 1 Axes>"
      ]
     },
     "metadata": {
      "needs_background": "light"
     },
     "output_type": "display_data"
    }
   ],
   "source": [
    "sns.histplot(data=df, x = \"DEP_DELAY\")\n",
    "plt.xlim(-20, 150)\n",
    "plt.ylim(0, 10000)"
   ]
  },
  {
   "cell_type": "code",
   "execution_count": 54,
   "id": "6b8eb92c",
   "metadata": {
    "scrolled": true
   },
   "outputs": [
    {
     "data": {
      "text/plain": [
       "(-20.0, 25.0)"
      ]
     },
     "execution_count": 54,
     "metadata": {},
     "output_type": "execute_result"
    },
    {
     "data": {
      "image/png": "[encoded data removed]",
      "text/plain": [
       "<Figure size 432x288 with 1 Axes>"
      ]
     },
     "metadata": {
      "needs_background": "light"
     },
     "output_type": "display_data"
    }
   ],
   "source": [
    "sns.histplot(data=df, x = \"DEP_DELAY\")\n",
    "plt.xlim(-20, 25)"
   ]
  },
  {
   "cell_type": "code",
   "execution_count": 55,
   "id": "a507bee1",
   "metadata": {},
   "outputs": [
    {
     "data": {
      "text/plain": [
       "FL_DATE                      0\n",
       "OP_UNIQUE_CARRIER            0\n",
       "OP_CARRIER_FL_NUM            0\n",
       "ORIGIN                       0\n",
       "DEST                         0\n",
       "DEP_TIME                130086\n",
       "DEP_DELAY               130110\n",
       "TAXI_OUT                133977\n",
       "WHEELS_OFF              133977\n",
       "WHEELS_ON               137647\n",
       "TAXI_IN                 137647\n",
       "ARR_TIME                137646\n",
       "ARR_DELAY               153805\n",
       "AIR_TIME                153805\n",
       "DISTANCE                     0\n",
       "CARRIER_DELAY          6032784\n",
       "WEATHER_DELAY          6032784\n",
       "NAS_DELAY              6032784\n",
       "SECURITY_DELAY         6032784\n",
       "LATE_AIRCRAFT_DELAY    6032784\n",
       "Unnamed: 20            7422037\n",
       "dtype: int64"
      ]
     },
     "execution_count": 55,
     "metadata": {},
     "output_type": "execute_result"
    }
   ],
   "source": [
    "df.isna().sum()"
   ]
  },
  {
   "cell_type": "markdown",
   "id": "3aa10469",
   "metadata": {},
   "source": [
    "the reason for the same nulls is the last 5 columns are they are either all nulls or all values - i.e. row 14- if there is a carrier delay of 12 mins then the other columns are entered as 0 but in row 11 there are no delays so they are null. "
   ]
  },
  {
   "cell_type": "code",
   "execution_count": 56,
   "id": "8760b051",
   "metadata": {},
   "outputs": [
    {
     "data": {
      "text/plain": [
       "Index(['FL_DATE', 'OP_UNIQUE_CARRIER', 'OP_CARRIER_FL_NUM', 'ORIGIN', 'DEST',\n",
       "       'DEP_TIME', 'DEP_DELAY', 'TAXI_OUT', 'WHEELS_OFF', 'WHEELS_ON',\n",
       "       'TAXI_IN', 'ARR_TIME', 'ARR_DELAY', 'AIR_TIME', 'DISTANCE',\n",
       "       'CARRIER_DELAY', 'WEATHER_DELAY', 'NAS_DELAY', 'SECURITY_DELAY',\n",
       "       'LATE_AIRCRAFT_DELAY', 'Unnamed: 20'],\n",
       "      dtype='object')"
      ]
     },
     "execution_count": 56,
     "metadata": {},
     "output_type": "execute_result"
    }
   ],
   "source": [
    "df.columns"
   ]
  },
  {
   "cell_type": "code",
   "execution_count": 57,
   "id": "421c6d14",
   "metadata": {},
   "outputs": [],
   "source": [
    "df.columns = [\"Date\", \"Carrier_code\", \"Flight_num\", \"Origin\", \"Dest\", \"Dep_time\", \"Dep_delay\", \"Taxi_out\", \"Wheels_off\", \"Wheels_on\", \"Taxi_in\", \"Arrival_time\", \"Arrival_delay\", \"Air_time\", \"Distance\", \"Carrier_delay\", \"Weather_delay\", \"Nas_delay\", \"Security_delay\", \"Aircraft_delay\", \"Unknown\"]"
   ]
  },
  {
   "cell_type": "code",
   "execution_count": 58,
   "id": "9559ce21",
   "metadata": {},
   "outputs": [],
   "source": [
    "df = df.fillna(0)"
   ]
  },
  {
   "cell_type": "code",
   "execution_count": 59,
   "id": "be64e872",
   "metadata": {},
   "outputs": [],
   "source": [
    "df[\"Total_delay\"] = df[\"Dep_delay\"] + df[\"Arrival_delay\"] + df[\"Carrier_delay\"] + df[\"Weather_delay\"] + df[\"Nas_delay\"] + df[\"Security_delay\"] + df[\"Aircraft_delay\"]"
   ]
  },
  {
   "cell_type": "markdown",
   "id": "cd0fcbf9",
   "metadata": {},
   "source": [
    "This may need to be revisited if we conduct more complex analysis. potentially, it seems from the data set that arrival delay = carrier delay + weather delay + nas delay + security delay +late aircraft delay."
   ]
  },
  {
   "cell_type": "code",
   "execution_count": 60,
   "id": "fd85bf49",
   "metadata": {
    "scrolled": true
   },
   "outputs": [
    {
     "data": {
      "text/html": [
       "<div>\n",
       "<style scoped>\n",
       "    .dataframe tbody tr th:only-of-type {\n",
       "        vertical-align: middle;\n",
       "    }\n",
       "\n",
       "    .dataframe tbody tr th {\n",
       "        vertical-align: top;\n",
       "    }\n",
       "\n",
       "    .dataframe thead th {\n",
       "        text-align: right;\n",
       "    }\n",
       "</style>\n",
       "<table border=\"1\" class=\"dataframe\">\n",
       "  <thead>\n",
       "    <tr style=\"text-align: right;\">\n",
       "      <th></th>\n",
       "      <th>Date</th>\n",
       "      <th>Carrier_code</th>\n",
       "      <th>Flight_num</th>\n",
       "      <th>Origin</th>\n",
       "      <th>Dest</th>\n",
       "      <th>Dep_time</th>\n",
       "      <th>Dep_delay</th>\n",
       "      <th>Taxi_out</th>\n",
       "      <th>Wheels_off</th>\n",
       "      <th>Wheels_on</th>\n",
       "      <th>...</th>\n",
       "      <th>Arrival_delay</th>\n",
       "      <th>Air_time</th>\n",
       "      <th>Distance</th>\n",
       "      <th>Carrier_delay</th>\n",
       "      <th>Weather_delay</th>\n",
       "      <th>Nas_delay</th>\n",
       "      <th>Security_delay</th>\n",
       "      <th>Aircraft_delay</th>\n",
       "      <th>Unknown</th>\n",
       "      <th>Total_delay</th>\n",
       "    </tr>\n",
       "  </thead>\n",
       "  <tbody>\n",
       "    <tr>\n",
       "      <th>0</th>\n",
       "      <td>2019-01-01</td>\n",
       "      <td>9E</td>\n",
       "      <td>3280</td>\n",
       "      <td>GNV</td>\n",
       "      <td>ATL</td>\n",
       "      <td>601.0</td>\n",
       "      <td>1.0</td>\n",
       "      <td>22.0</td>\n",
       "      <td>623.0</td>\n",
       "      <td>714.0</td>\n",
       "      <td>...</td>\n",
       "      <td>-1.0</td>\n",
       "      <td>51.0</td>\n",
       "      <td>300.0</td>\n",
       "      <td>0.0</td>\n",
       "      <td>0.0</td>\n",
       "      <td>0.0</td>\n",
       "      <td>0.0</td>\n",
       "      <td>0.0</td>\n",
       "      <td>0.0</td>\n",
       "      <td>0.0</td>\n",
       "    </tr>\n",
       "    <tr>\n",
       "      <th>1</th>\n",
       "      <td>2019-01-01</td>\n",
       "      <td>9E</td>\n",
       "      <td>3281</td>\n",
       "      <td>MSP</td>\n",
       "      <td>CVG</td>\n",
       "      <td>1359.0</td>\n",
       "      <td>-5.0</td>\n",
       "      <td>15.0</td>\n",
       "      <td>1414.0</td>\n",
       "      <td>1629.0</td>\n",
       "      <td>...</td>\n",
       "      <td>-36.0</td>\n",
       "      <td>75.0</td>\n",
       "      <td>596.0</td>\n",
       "      <td>0.0</td>\n",
       "      <td>0.0</td>\n",
       "      <td>0.0</td>\n",
       "      <td>0.0</td>\n",
       "      <td>0.0</td>\n",
       "      <td>0.0</td>\n",
       "      <td>-41.0</td>\n",
       "    </tr>\n",
       "    <tr>\n",
       "      <th>2</th>\n",
       "      <td>2019-01-01</td>\n",
       "      <td>9E</td>\n",
       "      <td>3282</td>\n",
       "      <td>DTW</td>\n",
       "      <td>CVG</td>\n",
       "      <td>1215.0</td>\n",
       "      <td>-5.0</td>\n",
       "      <td>18.0</td>\n",
       "      <td>1233.0</td>\n",
       "      <td>1323.0</td>\n",
       "      <td>...</td>\n",
       "      <td>-16.0</td>\n",
       "      <td>50.0</td>\n",
       "      <td>229.0</td>\n",
       "      <td>0.0</td>\n",
       "      <td>0.0</td>\n",
       "      <td>0.0</td>\n",
       "      <td>0.0</td>\n",
       "      <td>0.0</td>\n",
       "      <td>0.0</td>\n",
       "      <td>-21.0</td>\n",
       "    </tr>\n",
       "    <tr>\n",
       "      <th>3</th>\n",
       "      <td>2019-01-01</td>\n",
       "      <td>9E</td>\n",
       "      <td>3283</td>\n",
       "      <td>TLH</td>\n",
       "      <td>ATL</td>\n",
       "      <td>1521.0</td>\n",
       "      <td>-6.0</td>\n",
       "      <td>14.0</td>\n",
       "      <td>1535.0</td>\n",
       "      <td>1618.0</td>\n",
       "      <td>...</td>\n",
       "      <td>-14.0</td>\n",
       "      <td>43.0</td>\n",
       "      <td>223.0</td>\n",
       "      <td>0.0</td>\n",
       "      <td>0.0</td>\n",
       "      <td>0.0</td>\n",
       "      <td>0.0</td>\n",
       "      <td>0.0</td>\n",
       "      <td>0.0</td>\n",
       "      <td>-20.0</td>\n",
       "    </tr>\n",
       "    <tr>\n",
       "      <th>4</th>\n",
       "      <td>2019-01-01</td>\n",
       "      <td>9E</td>\n",
       "      <td>3284</td>\n",
       "      <td>ATL</td>\n",
       "      <td>FSM</td>\n",
       "      <td>1847.0</td>\n",
       "      <td>-15.0</td>\n",
       "      <td>18.0</td>\n",
       "      <td>1905.0</td>\n",
       "      <td>1935.0</td>\n",
       "      <td>...</td>\n",
       "      <td>-25.0</td>\n",
       "      <td>90.0</td>\n",
       "      <td>579.0</td>\n",
       "      <td>0.0</td>\n",
       "      <td>0.0</td>\n",
       "      <td>0.0</td>\n",
       "      <td>0.0</td>\n",
       "      <td>0.0</td>\n",
       "      <td>0.0</td>\n",
       "      <td>-40.0</td>\n",
       "    </tr>\n",
       "  </tbody>\n",
       "</table>\n",
       "<p>5 rows × 22 columns</p>\n",
       "</div>"
      ],
      "text/plain": [
       "         Date Carrier_code  Flight_num Origin Dest  Dep_time  Dep_delay  \\\n",
       "0  2019-01-01           9E        3280    GNV  ATL     601.0        1.0   \n",
       "1  2019-01-01           9E        3281    MSP  CVG    1359.0       -5.0   \n",
       "2  2019-01-01           9E        3282    DTW  CVG    1215.0       -5.0   \n",
       "3  2019-01-01           9E        3283    TLH  ATL    1521.0       -6.0   \n",
       "4  2019-01-01           9E        3284    ATL  FSM    1847.0      -15.0   \n",
       "\n",
       "   Taxi_out  Wheels_off  Wheels_on  ...  Arrival_delay  Air_time  Distance  \\\n",
       "0      22.0       623.0      714.0  ...           -1.0      51.0     300.0   \n",
       "1      15.0      1414.0     1629.0  ...          -36.0      75.0     596.0   \n",
       "2      18.0      1233.0     1323.0  ...          -16.0      50.0     229.0   \n",
       "3      14.0      1535.0     1618.0  ...          -14.0      43.0     223.0   \n",
       "4      18.0      1905.0     1935.0  ...          -25.0      90.0     579.0   \n",
       "\n",
       "   Carrier_delay  Weather_delay  Nas_delay  Security_delay  Aircraft_delay  \\\n",
       "0            0.0            0.0        0.0             0.0             0.0   \n",
       "1            0.0            0.0        0.0             0.0             0.0   \n",
       "2            0.0            0.0        0.0             0.0             0.0   \n",
       "3            0.0            0.0        0.0             0.0             0.0   \n",
       "4            0.0            0.0        0.0             0.0             0.0   \n",
       "\n",
       "   Unknown  Total_delay  \n",
       "0      0.0          0.0  \n",
       "1      0.0        -41.0  \n",
       "2      0.0        -21.0  \n",
       "3      0.0        -20.0  \n",
       "4      0.0        -40.0  \n",
       "\n",
       "[5 rows x 22 columns]"
      ]
     },
     "execution_count": 60,
     "metadata": {},
     "output_type": "execute_result"
    }
   ],
   "source": [
    "df.head()"
   ]
  },
  {
   "cell_type": "markdown",
   "id": "9d1b86eb",
   "metadata": {},
   "source": [
    "DF headings are = \"Date\", \"Carrier_code\", \"Flight_num\", \"Origin\", \"Dest\", \"Dep_time\", \"Dep_delay\", \"Taxi_out\", \"Wheels_off\", \"Wheels_on\", \"Taxi_in\", \"Arrival_time\", \"Arrival_delay\", \"Air_time\", \"Distance\", \"Carrier_delay\", \"Weather_delay\", \"Nas_delay\", \"Security_delay\", \"Aircraft_delay\", \"Unknown\", \"Total_delay\""
   ]
  },
  {
   "cell_type": "markdown",
   "id": "1022ee66",
   "metadata": {},
   "source": [
    "We will inspect the data where there is delay across hours, days, and months to see if these will help with our classification\n",
    "\n",
    "First we need to split the date column into Day, and Month and split departure time into hour."
   ]
  },
  {
   "cell_type": "code",
   "execution_count": 61,
   "id": "da967337",
   "metadata": {},
   "outputs": [],
   "source": [
    "from sklearn import preprocessing\n",
    "te = preprocessing.LabelEncoder()\n",
    "te.fit(df[\"Date\"])\n",
    "df[\"Day_temp\"] = te.transform(df[\"Date\"])"
   ]
  },
  {
   "cell_type": "markdown",
   "id": "e5877194",
   "metadata": {},
   "source": [
    "Create day column where monday = 0, and tuesday = 1 and so on. Jan 1st 2019 was a tuesday."
   ]
  },
  {
   "cell_type": "code",
   "execution_count": 62,
   "id": "b4869912",
   "metadata": {},
   "outputs": [],
   "source": [
    "df[\"Day\"] = df[\"Day_temp\"]%7+1"
   ]
  },
  {
   "cell_type": "code",
   "execution_count": 63,
   "id": "05b32d69",
   "metadata": {
    "scrolled": false
   },
   "outputs": [
    {
     "data": {
      "text/plain": [
       "7    1107285\n",
       "4    1103049\n",
       "3    1094899\n",
       "1    1077957\n",
       "2    1075379\n",
       "6    1056723\n",
       "5     906745\n",
       "Name: Day, dtype: int64"
      ]
     },
     "execution_count": 63,
     "metadata": {},
     "output_type": "execute_result"
    }
   ],
   "source": [
    "df[\"Day\"].value_counts()"
   ]
  },
  {
   "cell_type": "code",
   "execution_count": 64,
   "id": "cd81246e",
   "metadata": {},
   "outputs": [
    {
     "data": {
      "text/plain": [
       "<AxesSubplot:xlabel='Day', ylabel='Count'>"
      ]
     },
     "execution_count": 64,
     "metadata": {},
     "output_type": "execute_result"
    },
    {
     "data": {
      "image/png": "[encoded data removed]",
      "text/plain": [
       "<Figure size 432x288 with 1 Axes>"
      ]
     },
     "metadata": {
      "needs_background": "light"
     },
     "output_type": "display_data"
    }
   ],
   "source": [
    "time = df[df[\"Dep_delay\"]>15]\n",
    "sns.histplot(data=time, x = \"Day\")"
   ]
  },
  {
   "cell_type": "markdown",
   "id": "6d1eb2e4",
   "metadata": {},
   "source": [
    "We can see there is a relatively even distribution other than friday which saw less delays"
   ]
  },
  {
   "cell_type": "code",
   "execution_count": 65,
   "id": "07dd0ea5",
   "metadata": {
    "scrolled": true
   },
   "outputs": [
    {
     "data": {
      "text/html": [
       "<div>\n",
       "<style scoped>\n",
       "    .dataframe tbody tr th:only-of-type {\n",
       "        vertical-align: middle;\n",
       "    }\n",
       "\n",
       "    .dataframe tbody tr th {\n",
       "        vertical-align: top;\n",
       "    }\n",
       "\n",
       "    .dataframe thead th {\n",
       "        text-align: right;\n",
       "    }\n",
       "</style>\n",
       "<table border=\"1\" class=\"dataframe\">\n",
       "  <thead>\n",
       "    <tr style=\"text-align: right;\">\n",
       "      <th></th>\n",
       "      <th>Date</th>\n",
       "      <th>Carrier_code</th>\n",
       "      <th>Flight_num</th>\n",
       "      <th>Origin</th>\n",
       "      <th>Dest</th>\n",
       "      <th>Dep_time</th>\n",
       "      <th>Dep_delay</th>\n",
       "      <th>Taxi_out</th>\n",
       "      <th>Wheels_off</th>\n",
       "      <th>Wheels_on</th>\n",
       "      <th>...</th>\n",
       "      <th>Distance</th>\n",
       "      <th>Carrier_delay</th>\n",
       "      <th>Weather_delay</th>\n",
       "      <th>Nas_delay</th>\n",
       "      <th>Security_delay</th>\n",
       "      <th>Aircraft_delay</th>\n",
       "      <th>Unknown</th>\n",
       "      <th>Total_delay</th>\n",
       "      <th>Day_temp</th>\n",
       "      <th>Day</th>\n",
       "    </tr>\n",
       "  </thead>\n",
       "  <tbody>\n",
       "    <tr>\n",
       "      <th>0</th>\n",
       "      <td>2019-01-01</td>\n",
       "      <td>9E</td>\n",
       "      <td>3280</td>\n",
       "      <td>GNV</td>\n",
       "      <td>ATL</td>\n",
       "      <td>601.0</td>\n",
       "      <td>1.0</td>\n",
       "      <td>22.0</td>\n",
       "      <td>623.0</td>\n",
       "      <td>714.0</td>\n",
       "      <td>...</td>\n",
       "      <td>300.0</td>\n",
       "      <td>0.0</td>\n",
       "      <td>0.0</td>\n",
       "      <td>0.0</td>\n",
       "      <td>0.0</td>\n",
       "      <td>0.0</td>\n",
       "      <td>0.0</td>\n",
       "      <td>0.0</td>\n",
       "      <td>0</td>\n",
       "      <td>1</td>\n",
       "    </tr>\n",
       "    <tr>\n",
       "      <th>1</th>\n",
       "      <td>2019-01-01</td>\n",
       "      <td>9E</td>\n",
       "      <td>3281</td>\n",
       "      <td>MSP</td>\n",
       "      <td>CVG</td>\n",
       "      <td>1359.0</td>\n",
       "      <td>-5.0</td>\n",
       "      <td>15.0</td>\n",
       "      <td>1414.0</td>\n",
       "      <td>1629.0</td>\n",
       "      <td>...</td>\n",
       "      <td>596.0</td>\n",
       "      <td>0.0</td>\n",
       "      <td>0.0</td>\n",
       "      <td>0.0</td>\n",
       "      <td>0.0</td>\n",
       "      <td>0.0</td>\n",
       "      <td>0.0</td>\n",
       "      <td>-41.0</td>\n",
       "      <td>0</td>\n",
       "      <td>1</td>\n",
       "    </tr>\n",
       "    <tr>\n",
       "      <th>2</th>\n",
       "      <td>2019-01-01</td>\n",
       "      <td>9E</td>\n",
       "      <td>3282</td>\n",
       "      <td>DTW</td>\n",
       "      <td>CVG</td>\n",
       "      <td>1215.0</td>\n",
       "      <td>-5.0</td>\n",
       "      <td>18.0</td>\n",
       "      <td>1233.0</td>\n",
       "      <td>1323.0</td>\n",
       "      <td>...</td>\n",
       "      <td>229.0</td>\n",
       "      <td>0.0</td>\n",
       "      <td>0.0</td>\n",
       "      <td>0.0</td>\n",
       "      <td>0.0</td>\n",
       "      <td>0.0</td>\n",
       "      <td>0.0</td>\n",
       "      <td>-21.0</td>\n",
       "      <td>0</td>\n",
       "      <td>1</td>\n",
       "    </tr>\n",
       "    <tr>\n",
       "      <th>3</th>\n",
       "      <td>2019-01-01</td>\n",
       "      <td>9E</td>\n",
       "      <td>3283</td>\n",
       "      <td>TLH</td>\n",
       "      <td>ATL</td>\n",
       "      <td>1521.0</td>\n",
       "      <td>-6.0</td>\n",
       "      <td>14.0</td>\n",
       "      <td>1535.0</td>\n",
       "      <td>1618.0</td>\n",
       "      <td>...</td>\n",
       "      <td>223.0</td>\n",
       "      <td>0.0</td>\n",
       "      <td>0.0</td>\n",
       "      <td>0.0</td>\n",
       "      <td>0.0</td>\n",
       "      <td>0.0</td>\n",
       "      <td>0.0</td>\n",
       "      <td>-20.0</td>\n",
       "      <td>0</td>\n",
       "      <td>1</td>\n",
       "    </tr>\n",
       "    <tr>\n",
       "      <th>4</th>\n",
       "      <td>2019-01-01</td>\n",
       "      <td>9E</td>\n",
       "      <td>3284</td>\n",
       "      <td>ATL</td>\n",
       "      <td>FSM</td>\n",
       "      <td>1847.0</td>\n",
       "      <td>-15.0</td>\n",
       "      <td>18.0</td>\n",
       "      <td>1905.0</td>\n",
       "      <td>1935.0</td>\n",
       "      <td>...</td>\n",
       "      <td>579.0</td>\n",
       "      <td>0.0</td>\n",
       "      <td>0.0</td>\n",
       "      <td>0.0</td>\n",
       "      <td>0.0</td>\n",
       "      <td>0.0</td>\n",
       "      <td>0.0</td>\n",
       "      <td>-40.0</td>\n",
       "      <td>0</td>\n",
       "      <td>1</td>\n",
       "    </tr>\n",
       "  </tbody>\n",
       "</table>\n",
       "<p>5 rows × 24 columns</p>\n",
       "</div>"
      ],
      "text/plain": [
       "         Date Carrier_code  Flight_num Origin Dest  Dep_time  Dep_delay  \\\n",
       "0  2019-01-01           9E        3280    GNV  ATL     601.0        1.0   \n",
       "1  2019-01-01           9E        3281    MSP  CVG    1359.0       -5.0   \n",
       "2  2019-01-01           9E        3282    DTW  CVG    1215.0       -5.0   \n",
       "3  2019-01-01           9E        3283    TLH  ATL    1521.0       -6.0   \n",
       "4  2019-01-01           9E        3284    ATL  FSM    1847.0      -15.0   \n",
       "\n",
       "   Taxi_out  Wheels_off  Wheels_on  ...  Distance  Carrier_delay  \\\n",
       "0      22.0       623.0      714.0  ...     300.0            0.0   \n",
       "1      15.0      1414.0     1629.0  ...     596.0            0.0   \n",
       "2      18.0      1233.0     1323.0  ...     229.0            0.0   \n",
       "3      14.0      1535.0     1618.0  ...     223.0            0.0   \n",
       "4      18.0      1905.0     1935.0  ...     579.0            0.0   \n",
       "\n",
       "   Weather_delay  Nas_delay  Security_delay  Aircraft_delay  Unknown  \\\n",
       "0            0.0        0.0             0.0             0.0      0.0   \n",
       "1            0.0        0.0             0.0             0.0      0.0   \n",
       "2            0.0        0.0             0.0             0.0      0.0   \n",
       "3            0.0        0.0             0.0             0.0      0.0   \n",
       "4            0.0        0.0             0.0             0.0      0.0   \n",
       "\n",
       "   Total_delay  Day_temp  Day  \n",
       "0          0.0         0    1  \n",
       "1        -41.0         0    1  \n",
       "2        -21.0         0    1  \n",
       "3        -20.0         0    1  \n",
       "4        -40.0         0    1  \n",
       "\n",
       "[5 rows x 24 columns]"
      ]
     },
     "execution_count": 65,
     "metadata": {},
     "output_type": "execute_result"
    }
   ],
   "source": [
    "df.head()"
   ]
  },
  {
   "cell_type": "code",
   "execution_count": 66,
   "id": "0daf5f23",
   "metadata": {},
   "outputs": [],
   "source": [
    "df[\"Month\"] = df[\"Date\"].str[5:7]"
   ]
  },
  {
   "cell_type": "code",
   "execution_count": 67,
   "id": "39aa7e6d",
   "metadata": {},
   "outputs": [],
   "source": [
    "df[\"Month\"] = df[\"Month\"].astype('int64')"
   ]
  },
  {
   "cell_type": "code",
   "execution_count": 68,
   "id": "e0e29f38",
   "metadata": {},
   "outputs": [
    {
     "data": {
      "text/plain": [
       "7     659029\n",
       "8     658461\n",
       "6     636691\n",
       "5     636390\n",
       "10    636014\n",
       "3     632074\n",
       "12    625763\n",
       "4     612023\n",
       "9     605979\n",
       "11    602453\n",
       "1     583985\n",
       "2     533175\n",
       "Name: Month, dtype: int64"
      ]
     },
     "execution_count": 68,
     "metadata": {},
     "output_type": "execute_result"
    }
   ],
   "source": [
    "df[\"Month\"].value_counts()"
   ]
  },
  {
   "cell_type": "code",
   "execution_count": 69,
   "id": "1a22db72",
   "metadata": {
    "scrolled": false
   },
   "outputs": [
    {
     "data": {
      "text/plain": [
       "<AxesSubplot:xlabel='Month', ylabel='Count'>"
      ]
     },
     "execution_count": 69,
     "metadata": {},
     "output_type": "execute_result"
    },
    {
     "data": {
      "image/png": "[encoded data removed]",
      "text/plain": [
       "<Figure size 432x288 with 1 Axes>"
      ]
     },
     "metadata": {
      "needs_background": "light"
     },
     "output_type": "display_data"
    }
   ],
   "source": [
    "time = df[df[\"Dep_delay\"]>15]\n",
    "sns.histplot(data=time, x = \"Month\")"
   ]
  },
  {
   "cell_type": "markdown",
   "id": "77be55db",
   "metadata": {},
   "source": [
    "There seems to be a varied distribution of delays across months. June and the summer months have a peak as does December"
   ]
  },
  {
   "cell_type": "code",
   "execution_count": 70,
   "id": "8db556c4",
   "metadata": {},
   "outputs": [
    {
     "name": "stdout",
     "output_type": "stream",
     "text": [
      "<class 'pandas.core.frame.DataFrame'>\n",
      "RangeIndex: 7422037 entries, 0 to 7422036\n",
      "Data columns (total 25 columns):\n",
      " #   Column          Dtype  \n",
      "---  ------          -----  \n",
      " 0   Date            object \n",
      " 1   Carrier_code    object \n",
      " 2   Flight_num      int64  \n",
      " 3   Origin          object \n",
      " 4   Dest            object \n",
      " 5   Dep_time        float64\n",
      " 6   Dep_delay       float64\n",
      " 7   Taxi_out        float64\n",
      " 8   Wheels_off      float64\n",
      " 9   Wheels_on       float64\n",
      " 10  Taxi_in         float64\n",
      " 11  Arrival_time    float64\n",
      " 12  Arrival_delay   float64\n",
      " 13  Air_time        float64\n",
      " 14  Distance        float64\n",
      " 15  Carrier_delay   float64\n",
      " 16  Weather_delay   float64\n",
      " 17  Nas_delay       float64\n",
      " 18  Security_delay  float64\n",
      " 19  Aircraft_delay  float64\n",
      " 20  Unknown         float64\n",
      " 21  Total_delay     float64\n",
      " 22  Day_temp        int64  \n",
      " 23  Day             int64  \n",
      " 24  Month           int64  \n",
      "dtypes: float64(17), int64(4), object(4)\n",
      "memory usage: 1.4+ GB\n"
     ]
    }
   ],
   "source": [
    "df.info()"
   ]
  },
  {
   "cell_type": "code",
   "execution_count": 71,
   "id": "6c5fb061",
   "metadata": {
    "scrolled": true
   },
   "outputs": [],
   "source": [
    "df[\"Hour\"] = (df[\"Dep_time\"]/100)\n",
    "df[\"Hour\"] = df[\"Hour\"].astype('int64')"
   ]
  },
  {
   "cell_type": "code",
   "execution_count": 72,
   "id": "ceed760a",
   "metadata": {},
   "outputs": [
    {
     "data": {
      "text/plain": [
       "<AxesSubplot:xlabel='Hour', ylabel='Count'>"
      ]
     },
     "execution_count": 72,
     "metadata": {},
     "output_type": "execute_result"
    },
    {
     "data": {
      "image/png": "[encoded data removed]",
      "text/plain": [
       "<Figure size 432x288 with 1 Axes>"
      ]
     },
     "metadata": {
      "needs_background": "light"
     },
     "output_type": "display_data"
    }
   ],
   "source": [
    "time = df[df[\"Dep_delay\"]>15]\n",
    "sns.histplot(data=time, x = \"Hour\")"
   ]
  },
  {
   "cell_type": "markdown",
   "id": "30cc160f",
   "metadata": {},
   "source": [
    "There seems to be a clear trend that as the day goes on more delays occur"
   ]
  },
  {
   "cell_type": "code",
   "execution_count": 73,
   "id": "833473d4",
   "metadata": {},
   "outputs": [],
   "source": [
    "df.drop('Day_temp', axis=1, inplace=True)\n",
    "df.drop('Date', axis=1, inplace=True)\n",
    "df.drop('Dep_time', axis=1, inplace=True)\n",
    "df.drop('Taxi_out', axis=1, inplace=True)\n",
    "df.drop('Wheels_off', axis=1, inplace=True)\n",
    "df.drop('Wheels_on', axis=1, inplace=True)\n",
    "df.drop('Taxi_in', axis=1, inplace=True)\n",
    "df.drop('Arrival_time', axis=1, inplace=True)\n",
    "df.drop('Air_time', axis=1, inplace=True)\n",
    "df.drop('Unknown', axis=1, inplace=True)\n",
    "df.drop('Total_delay', axis=1, inplace=True)\n",
    "df.drop('Arrival_delay', axis=1, inplace=True)\n",
    "df.drop('Carrier_delay', axis=1, inplace=True)\n",
    "df.drop('Weather_delay', axis=1, inplace=True)\n",
    "df.drop('Nas_delay', axis=1, inplace=True)\n",
    "df.drop('Security_delay', axis=1, inplace=True)\n",
    "df.drop('Aircraft_delay', axis=1, inplace=True)"
   ]
  },
  {
   "cell_type": "code",
   "execution_count": 74,
   "id": "75a6acba",
   "metadata": {},
   "outputs": [
    {
     "data": {
      "text/plain": [
       "Index(['Carrier_code', 'Flight_num', 'Origin', 'Dest', 'Dep_delay', 'Distance',\n",
       "       'Day', 'Month', 'Hour'],\n",
       "      dtype='object')"
      ]
     },
     "execution_count": 74,
     "metadata": {},
     "output_type": "execute_result"
    }
   ],
   "source": [
    "df.columns"
   ]
  },
  {
   "cell_type": "code",
   "execution_count": 75,
   "id": "d2a34854",
   "metadata": {},
   "outputs": [
    {
     "data": {
      "text/plain": [
       "WN    1363946\n",
       "DL     991986\n",
       "AA     946776\n",
       "OO     836445\n",
       "UA     625910\n",
       "YX     329149\n",
       "MQ     327007\n",
       "B6     297411\n",
       "OH     289304\n",
       "AS     264816\n",
       "9E     257132\n",
       "YV     227888\n",
       "NK     204845\n",
       "F9     135543\n",
       "EV     134683\n",
       "G4     105305\n",
       "HA      83891\n",
       "Name: Carrier_code, dtype: int64"
      ]
     },
     "execution_count": 75,
     "metadata": {},
     "output_type": "execute_result"
    }
   ],
   "source": [
    "df[\"Carrier_code\"].value_counts()"
   ]
  },
  {
   "cell_type": "markdown",
   "id": "09e60df6",
   "metadata": {},
   "source": [
    "This csv will be used for our analysis but is not ready for ml development. We will use encoders to transform csv."
   ]
  },
  {
   "cell_type": "code",
   "execution_count": 76,
   "id": "df9e606c",
   "metadata": {},
   "outputs": [],
   "source": [
    "from sklearn import preprocessing\n",
    "le = preprocessing.LabelEncoder()\n",
    "le.fit([\"WN\", \"DL\", \"AA\", \"OO\", \"UA\", \"YX\", \"MQ\", \"B6\",\"OH\", \"AS\", \"9E\", \"YV\", \"NK\", \"F9\", \"EV\", \"G4\", \"HA\"])\n",
    "df[\"Carrier_code\"] = le.transform(df[\"Carrier_code\"])"
   ]
  },
  {
   "cell_type": "code",
   "execution_count": 77,
   "id": "df149b31",
   "metadata": {},
   "outputs": [],
   "source": [
    "from sklearn import preprocessing\n",
    "de = preprocessing.LabelEncoder()\n",
    "de.fit(df[\"Dest\"])\n",
    "df[\"Dest\"] = de.transform(df[\"Dest\"])"
   ]
  },
  {
   "cell_type": "code",
   "execution_count": 78,
   "id": "1a9723e3",
   "metadata": {},
   "outputs": [],
   "source": [
    "from sklearn import preprocessing\n",
    "ke = preprocessing.LabelEncoder()\n",
    "ke.fit(df[\"Origin\"])\n",
    "df[\"Origin\"] = ke.transform(df[\"Origin\"])"
   ]
  },
  {
   "cell_type": "code",
   "execution_count": 79,
   "id": "168dec79",
   "metadata": {},
   "outputs": [
    {
     "data": {
      "text/html": [
       "<div>\n",
       "<style scoped>\n",
       "    .dataframe tbody tr th:only-of-type {\n",
       "        vertical-align: middle;\n",
       "    }\n",
       "\n",
       "    .dataframe tbody tr th {\n",
       "        vertical-align: top;\n",
       "    }\n",
       "\n",
       "    .dataframe thead th {\n",
       "        text-align: right;\n",
       "    }\n",
       "</style>\n",
       "<table border=\"1\" class=\"dataframe\">\n",
       "  <thead>\n",
       "    <tr style=\"text-align: right;\">\n",
       "      <th></th>\n",
       "      <th>Carrier_code</th>\n",
       "      <th>Flight_num</th>\n",
       "      <th>Origin</th>\n",
       "      <th>Dest</th>\n",
       "      <th>Dep_delay</th>\n",
       "      <th>Distance</th>\n",
       "      <th>Day</th>\n",
       "      <th>Month</th>\n",
       "      <th>Hour</th>\n",
       "    </tr>\n",
       "  </thead>\n",
       "  <tbody>\n",
       "    <tr>\n",
       "      <th>0</th>\n",
       "      <td>0</td>\n",
       "      <td>3280</td>\n",
       "      <td>134</td>\n",
       "      <td>21</td>\n",
       "      <td>1.0</td>\n",
       "      <td>300.0</td>\n",
       "      <td>1</td>\n",
       "      <td>1</td>\n",
       "      <td>6</td>\n",
       "    </tr>\n",
       "    <tr>\n",
       "      <th>1</th>\n",
       "      <td>0</td>\n",
       "      <td>3281</td>\n",
       "      <td>233</td>\n",
       "      <td>85</td>\n",
       "      <td>-5.0</td>\n",
       "      <td>596.0</td>\n",
       "      <td>1</td>\n",
       "      <td>1</td>\n",
       "      <td>13</td>\n",
       "    </tr>\n",
       "    <tr>\n",
       "      <th>2</th>\n",
       "      <td>0</td>\n",
       "      <td>3282</td>\n",
       "      <td>101</td>\n",
       "      <td>85</td>\n",
       "      <td>-5.0</td>\n",
       "      <td>229.0</td>\n",
       "      <td>1</td>\n",
       "      <td>1</td>\n",
       "      <td>12</td>\n",
       "    </tr>\n",
       "    <tr>\n",
       "      <th>3</th>\n",
       "      <td>0</td>\n",
       "      <td>3283</td>\n",
       "      <td>337</td>\n",
       "      <td>21</td>\n",
       "      <td>-6.0</td>\n",
       "      <td>223.0</td>\n",
       "      <td>1</td>\n",
       "      <td>1</td>\n",
       "      <td>15</td>\n",
       "    </tr>\n",
       "    <tr>\n",
       "      <th>4</th>\n",
       "      <td>0</td>\n",
       "      <td>3284</td>\n",
       "      <td>21</td>\n",
       "      <td>126</td>\n",
       "      <td>-15.0</td>\n",
       "      <td>579.0</td>\n",
       "      <td>1</td>\n",
       "      <td>1</td>\n",
       "      <td>18</td>\n",
       "    </tr>\n",
       "  </tbody>\n",
       "</table>\n",
       "</div>"
      ],
      "text/plain": [
       "   Carrier_code  Flight_num  Origin  Dest  Dep_delay  Distance  Day  Month  \\\n",
       "0             0        3280     134    21        1.0     300.0    1      1   \n",
       "1             0        3281     233    85       -5.0     596.0    1      1   \n",
       "2             0        3282     101    85       -5.0     229.0    1      1   \n",
       "3             0        3283     337    21       -6.0     223.0    1      1   \n",
       "4             0        3284      21   126      -15.0     579.0    1      1   \n",
       "\n",
       "   Hour  \n",
       "0     6  \n",
       "1    13  \n",
       "2    12  \n",
       "3    15  \n",
       "4    18  "
      ]
     },
     "execution_count": 79,
     "metadata": {},
     "output_type": "execute_result"
    }
   ],
   "source": [
    "df.head()"
   ]
  },
  {
   "cell_type": "code",
   "execution_count": 80,
   "id": "a43a1ca7",
   "metadata": {},
   "outputs": [],
   "source": [
    "df['Is_Delay'] = np.where(df['Dep_delay'] > 15, 1, 0)"
   ]
  },
  {
   "cell_type": "code",
   "execution_count": 81,
   "id": "5712f653",
   "metadata": {},
   "outputs": [
    {
     "data": {
      "text/html": [
       "<div>\n",
       "<style scoped>\n",
       "    .dataframe tbody tr th:only-of-type {\n",
       "        vertical-align: middle;\n",
       "    }\n",
       "\n",
       "    .dataframe tbody tr th {\n",
       "        vertical-align: top;\n",
       "    }\n",
       "\n",
       "    .dataframe thead th {\n",
       "        text-align: right;\n",
       "    }\n",
       "</style>\n",
       "<table border=\"1\" class=\"dataframe\">\n",
       "  <thead>\n",
       "    <tr style=\"text-align: right;\">\n",
       "      <th></th>\n",
       "      <th>Carrier_code</th>\n",
       "      <th>Flight_num</th>\n",
       "      <th>Origin</th>\n",
       "      <th>Dest</th>\n",
       "      <th>Dep_delay</th>\n",
       "      <th>Distance</th>\n",
       "      <th>Day</th>\n",
       "      <th>Month</th>\n",
       "      <th>Hour</th>\n",
       "      <th>Is_Delay</th>\n",
       "    </tr>\n",
       "  </thead>\n",
       "  <tbody>\n",
       "    <tr>\n",
       "      <th>0</th>\n",
       "      <td>0</td>\n",
       "      <td>3280</td>\n",
       "      <td>134</td>\n",
       "      <td>21</td>\n",
       "      <td>1.0</td>\n",
       "      <td>300.0</td>\n",
       "      <td>1</td>\n",
       "      <td>1</td>\n",
       "      <td>6</td>\n",
       "      <td>0</td>\n",
       "    </tr>\n",
       "    <tr>\n",
       "      <th>1</th>\n",
       "      <td>0</td>\n",
       "      <td>3281</td>\n",
       "      <td>233</td>\n",
       "      <td>85</td>\n",
       "      <td>-5.0</td>\n",
       "      <td>596.0</td>\n",
       "      <td>1</td>\n",
       "      <td>1</td>\n",
       "      <td>13</td>\n",
       "      <td>0</td>\n",
       "    </tr>\n",
       "    <tr>\n",
       "      <th>2</th>\n",
       "      <td>0</td>\n",
       "      <td>3282</td>\n",
       "      <td>101</td>\n",
       "      <td>85</td>\n",
       "      <td>-5.0</td>\n",
       "      <td>229.0</td>\n",
       "      <td>1</td>\n",
       "      <td>1</td>\n",
       "      <td>12</td>\n",
       "      <td>0</td>\n",
       "    </tr>\n",
       "    <tr>\n",
       "      <th>3</th>\n",
       "      <td>0</td>\n",
       "      <td>3283</td>\n",
       "      <td>337</td>\n",
       "      <td>21</td>\n",
       "      <td>-6.0</td>\n",
       "      <td>223.0</td>\n",
       "      <td>1</td>\n",
       "      <td>1</td>\n",
       "      <td>15</td>\n",
       "      <td>0</td>\n",
       "    </tr>\n",
       "    <tr>\n",
       "      <th>4</th>\n",
       "      <td>0</td>\n",
       "      <td>3284</td>\n",
       "      <td>21</td>\n",
       "      <td>126</td>\n",
       "      <td>-15.0</td>\n",
       "      <td>579.0</td>\n",
       "      <td>1</td>\n",
       "      <td>1</td>\n",
       "      <td>18</td>\n",
       "      <td>0</td>\n",
       "    </tr>\n",
       "  </tbody>\n",
       "</table>\n",
       "</div>"
      ],
      "text/plain": [
       "   Carrier_code  Flight_num  Origin  Dest  Dep_delay  Distance  Day  Month  \\\n",
       "0             0        3280     134    21        1.0     300.0    1      1   \n",
       "1             0        3281     233    85       -5.0     596.0    1      1   \n",
       "2             0        3282     101    85       -5.0     229.0    1      1   \n",
       "3             0        3283     337    21       -6.0     223.0    1      1   \n",
       "4             0        3284      21   126      -15.0     579.0    1      1   \n",
       "\n",
       "   Hour  Is_Delay  \n",
       "0     6         0  \n",
       "1    13         0  \n",
       "2    12         0  \n",
       "3    15         0  \n",
       "4    18         0  "
      ]
     },
     "execution_count": 81,
     "metadata": {},
     "output_type": "execute_result"
    }
   ],
   "source": [
    "df.head()"
   ]
  },
  {
   "cell_type": "code",
   "execution_count": 82,
   "id": "da052232",
   "metadata": {},
   "outputs": [],
   "source": [
    "df.drop('Dep_delay', axis=1, inplace=True)"
   ]
  },
  {
   "cell_type": "code",
   "execution_count": 83,
   "id": "2f098e19",
   "metadata": {},
   "outputs": [
    {
     "data": {
      "text/plain": [
       "0    6103946\n",
       "1    1318091\n",
       "Name: Is_Delay, dtype: int64"
      ]
     },
     "execution_count": 83,
     "metadata": {},
     "output_type": "execute_result"
    }
   ],
   "source": [
    "df[\"Is_Delay\"].value_counts()"
   ]
  },
  {
   "cell_type": "markdown",
   "id": "98e22063",
   "metadata": {},
   "source": [
    "Reasonable split between delay(1) and no delay(0) for analysis\n"
   ]
  },
  {
   "cell_type": "code",
   "execution_count": 84,
   "id": "4663237a",
   "metadata": {},
   "outputs": [],
   "source": [
    "df.to_csv(\"../Data/simple_ml_analysis.csv\", index=False)"
   ]
  },
  {
   "cell_type": "markdown",
   "id": "c85a37e3",
   "metadata": {},
   "source": [
    "## Undersampling\n",
    "\n",
    "We tested the use of undersampling as we were worried the algorithms were merely deciding the dominant class label as no delay. We therefore reduced the dataset to a 50/50 split between delay and no delay. Since the data set is a large one this still leaves us with 1,318,091 rows of data for each."
   ]
  },
  {
   "cell_type": "code",
   "execution_count": 35,
   "id": "246b4000",
   "metadata": {},
   "outputs": [],
   "source": [
    "class_count_0, class_count_1 = df['Is_Delay'].value_counts()"
   ]
  },
  {
   "cell_type": "code",
   "execution_count": 36,
   "id": "6357bcb4",
   "metadata": {},
   "outputs": [
    {
     "name": "stdout",
     "output_type": "stream",
     "text": [
      "class 0: (6103946, 9)\n",
      "class 1: (1318091, 9)\n"
     ]
    }
   ],
   "source": [
    "# Separate class\n",
    "class_0 = df[df['Is_Delay'] == 0]\n",
    "class_1 = df[df['Is_Delay'] == 1]\n",
    "# print the shape of the class\n",
    "print('class 0:', class_0.shape)\n",
    "print('class 1:', class_1.shape)"
   ]
  },
  {
   "cell_type": "code",
   "execution_count": 37,
   "id": "070e18d1",
   "metadata": {},
   "outputs": [],
   "source": [
    "class_0_under = class_0.sample(class_count_1)"
   ]
  },
  {
   "cell_type": "code",
   "execution_count": 38,
   "id": "cc3307fe",
   "metadata": {},
   "outputs": [],
   "source": [
    "test_under = pd.concat([class_0_under, class_1], axis=0)"
   ]
  },
  {
   "cell_type": "code",
   "execution_count": 39,
   "id": "b68d821f",
   "metadata": {},
   "outputs": [
    {
     "name": "stdout",
     "output_type": "stream",
     "text": [
      "total class of 1 and 0: 0    1318091\n",
      "1    1318091\n",
      "Name: Is_Delay, dtype: int64\n"
     ]
    }
   ],
   "source": [
    "print(\"total class of 1 and 0:\",test_under['Is_Delay'].value_counts())"
   ]
  },
  {
   "cell_type": "code",
   "execution_count": 40,
   "id": "eaa3d1c1",
   "metadata": {},
   "outputs": [
    {
     "data": {
      "text/html": [
       "<div>\n",
       "<style scoped>\n",
       "    .dataframe tbody tr th:only-of-type {\n",
       "        vertical-align: middle;\n",
       "    }\n",
       "\n",
       "    .dataframe tbody tr th {\n",
       "        vertical-align: top;\n",
       "    }\n",
       "\n",
       "    .dataframe thead th {\n",
       "        text-align: right;\n",
       "    }\n",
       "</style>\n",
       "<table border=\"1\" class=\"dataframe\">\n",
       "  <thead>\n",
       "    <tr style=\"text-align: right;\">\n",
       "      <th></th>\n",
       "      <th>Carrier_code</th>\n",
       "      <th>Flight_num</th>\n",
       "      <th>Origin</th>\n",
       "      <th>Dest</th>\n",
       "      <th>Distance</th>\n",
       "      <th>Day</th>\n",
       "      <th>Month</th>\n",
       "      <th>Hour</th>\n",
       "      <th>Is_Delay</th>\n",
       "    </tr>\n",
       "  </thead>\n",
       "  <tbody>\n",
       "    <tr>\n",
       "      <th>5883947</th>\n",
       "      <td>10</td>\n",
       "      <td>1704</td>\n",
       "      <td>73</td>\n",
       "      <td>58</td>\n",
       "      <td>361.0</td>\n",
       "      <td>2</td>\n",
       "      <td>10</td>\n",
       "      <td>11</td>\n",
       "      <td>0</td>\n",
       "    </tr>\n",
       "    <tr>\n",
       "      <th>449620</th>\n",
       "      <td>11</td>\n",
       "      <td>5362</td>\n",
       "      <td>356</td>\n",
       "      <td>73</td>\n",
       "      <td>754.0</td>\n",
       "      <td>3</td>\n",
       "      <td>1</td>\n",
       "      <td>5</td>\n",
       "      <td>0</td>\n",
       "    </tr>\n",
       "    <tr>\n",
       "      <th>2744919</th>\n",
       "      <td>14</td>\n",
       "      <td>4632</td>\n",
       "      <td>73</td>\n",
       "      <td>58</td>\n",
       "      <td>361.0</td>\n",
       "      <td>6</td>\n",
       "      <td>5</td>\n",
       "      <td>15</td>\n",
       "      <td>0</td>\n",
       "    </tr>\n",
       "    <tr>\n",
       "      <th>681791</th>\n",
       "      <td>14</td>\n",
       "      <td>375</td>\n",
       "      <td>44</td>\n",
       "      <td>188</td>\n",
       "      <td>1797.0</td>\n",
       "      <td>2</td>\n",
       "      <td>2</td>\n",
       "      <td>9</td>\n",
       "      <td>0</td>\n",
       "    </tr>\n",
       "    <tr>\n",
       "      <th>6061638</th>\n",
       "      <td>2</td>\n",
       "      <td>546</td>\n",
       "      <td>188</td>\n",
       "      <td>115</td>\n",
       "      <td>2454.0</td>\n",
       "      <td>4</td>\n",
       "      <td>10</td>\n",
       "      <td>9</td>\n",
       "      <td>0</td>\n",
       "    </tr>\n",
       "    <tr>\n",
       "      <th>...</th>\n",
       "      <td>...</td>\n",
       "      <td>...</td>\n",
       "      <td>...</td>\n",
       "      <td>...</td>\n",
       "      <td>...</td>\n",
       "      <td>...</td>\n",
       "      <td>...</td>\n",
       "      <td>...</td>\n",
       "      <td>...</td>\n",
       "    </tr>\n",
       "    <tr>\n",
       "      <th>7422004</th>\n",
       "      <td>3</td>\n",
       "      <td>783</td>\n",
       "      <td>46</td>\n",
       "      <td>285</td>\n",
       "      <td>612.0</td>\n",
       "      <td>1</td>\n",
       "      <td>12</td>\n",
       "      <td>16</td>\n",
       "      <td>1</td>\n",
       "    </tr>\n",
       "    <tr>\n",
       "      <th>7422009</th>\n",
       "      <td>3</td>\n",
       "      <td>802</td>\n",
       "      <td>318</td>\n",
       "      <td>210</td>\n",
       "      <td>1931.0</td>\n",
       "      <td>1</td>\n",
       "      <td>12</td>\n",
       "      <td>22</td>\n",
       "      <td>1</td>\n",
       "    </tr>\n",
       "    <tr>\n",
       "      <th>7422011</th>\n",
       "      <td>3</td>\n",
       "      <td>805</td>\n",
       "      <td>115</td>\n",
       "      <td>123</td>\n",
       "      <td>1065.0</td>\n",
       "      <td>1</td>\n",
       "      <td>12</td>\n",
       "      <td>14</td>\n",
       "      <td>1</td>\n",
       "    </tr>\n",
       "    <tr>\n",
       "      <th>7422012</th>\n",
       "      <td>3</td>\n",
       "      <td>806</td>\n",
       "      <td>123</td>\n",
       "      <td>115</td>\n",
       "      <td>1065.0</td>\n",
       "      <td>1</td>\n",
       "      <td>12</td>\n",
       "      <td>10</td>\n",
       "      <td>1</td>\n",
       "    </tr>\n",
       "    <tr>\n",
       "      <th>7422032</th>\n",
       "      <td>3</td>\n",
       "      <td>846</td>\n",
       "      <td>210</td>\n",
       "      <td>334</td>\n",
       "      <td>989.0</td>\n",
       "      <td>1</td>\n",
       "      <td>12</td>\n",
       "      <td>15</td>\n",
       "      <td>1</td>\n",
       "    </tr>\n",
       "  </tbody>\n",
       "</table>\n",
       "<p>2636182 rows × 9 columns</p>\n",
       "</div>"
      ],
      "text/plain": [
       "         Carrier_code  Flight_num  Origin  Dest  Distance  Day  Month  Hour  \\\n",
       "5883947            10        1704      73    58     361.0    2     10    11   \n",
       "449620             11        5362     356    73     754.0    3      1     5   \n",
       "2744919            14        4632      73    58     361.0    6      5    15   \n",
       "681791             14         375      44   188    1797.0    2      2     9   \n",
       "6061638             2         546     188   115    2454.0    4     10     9   \n",
       "...               ...         ...     ...   ...       ...  ...    ...   ...   \n",
       "7422004             3         783      46   285     612.0    1     12    16   \n",
       "7422009             3         802     318   210    1931.0    1     12    22   \n",
       "7422011             3         805     115   123    1065.0    1     12    14   \n",
       "7422012             3         806     123   115    1065.0    1     12    10   \n",
       "7422032             3         846     210   334     989.0    1     12    15   \n",
       "\n",
       "         Is_Delay  \n",
       "5883947         0  \n",
       "449620          0  \n",
       "2744919         0  \n",
       "681791          0  \n",
       "6061638         0  \n",
       "...           ...  \n",
       "7422004         1  \n",
       "7422009         1  \n",
       "7422011         1  \n",
       "7422012         1  \n",
       "7422032         1  \n",
       "\n",
       "[2636182 rows x 9 columns]"
      ]
     },
     "execution_count": 40,
     "metadata": {},
     "output_type": "execute_result"
    }
   ],
   "source": [
    "test_under"
   ]
  },
  {
   "cell_type": "code",
   "execution_count": 41,
   "id": "ff4f6327",
   "metadata": {},
   "outputs": [],
   "source": [
    "test_under.to_csv(\"../Data/simple_ml_analysis.csv\", index=False)"
   ]
  },
  {
   "cell_type": "markdown",
   "id": "5dd3f410",
   "metadata": {},
   "source": [
    "This overwrites our simple_analysis csv so ensure to re run this script if testing the models without Undersampling"
   ]
  }
 ],
 "metadata": {
  "kernelspec": {
   "display_name": "Python 3 (ipykernel)",
   "language": "python",
   "name": "python3"
  },
  "language_info": {
   "codemirror_mode": {
    "name": "ipython",
    "version": 3
   },
   "file_extension": ".py",
   "mimetype": "text/x-python",
   "name": "python",
   "nbconvert_exporter": "python",
   "pygments_lexer": "ipython3",
   "version": "3.7.3"
  }
 },
 "nbformat": 4,
 "nbformat_minor": 5
}
